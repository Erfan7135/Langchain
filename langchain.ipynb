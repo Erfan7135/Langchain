{
  "nbformat": 4,
  "nbformat_minor": 0,
  "metadata": {
    "colab": {
      "provenance": [],
      "toc_visible": true,
      "include_colab_link": true
    },
    "kernelspec": {
      "name": "python3",
      "display_name": "Python 3"
    },
    "language_info": {
      "name": "python"
    }
  },
  "cells": [
    {
      "cell_type": "markdown",
      "metadata": {
        "id": "view-in-github",
        "colab_type": "text"
      },
      "source": [
        "<a href=\"https://colab.research.google.com/github/Erfan7135/Langchain/blob/main/langchain.ipynb\" target=\"_parent\"><img src=\"https://colab.research.google.com/assets/colab-badge.svg\" alt=\"Open In Colab\"/></a>"
      ]
    },
    {
      "cell_type": "markdown",
      "source": [
        "# Basic Setup"
      ],
      "metadata": {
        "id": "3dms01SYCKLJ"
      }
    },
    {
      "cell_type": "code",
      "execution_count": 1,
      "metadata": {
        "colab": {
          "base_uri": "https://localhost:8080/"
        },
        "id": "9oPj7CffVQLH",
        "outputId": "e19190cb-0b7c-49c9-cdcd-62d5a1ba311c"
      },
      "outputs": [
        {
          "output_type": "stream",
          "name": "stdout",
          "text": [
            "Python 3.11.13\n"
          ]
        }
      ],
      "source": [
        "!python --version"
      ]
    },
    {
      "cell_type": "markdown",
      "source": [
        "installing necessary packages"
      ],
      "metadata": {
        "id": "Atj5TGHUVdPG"
      }
    },
    {
      "cell_type": "code",
      "source": [
        "!pip install -q --upgrade langchain langchain-core langchain-google-genai google-generativeai==0.8.5"
      ],
      "metadata": {
        "colab": {
          "base_uri": "https://localhost:8080/"
        },
        "id": "JRjxfl1hVbx2",
        "outputId": "da25d918-72ca-4696-946d-27560047c14e"
      },
      "execution_count": 2,
      "outputs": [
        {
          "output_type": "stream",
          "name": "stdout",
          "text": [
            "\u001b[?25l   \u001b[90m━━━━━━━━━━━━━━━━━━━━━━━━━━━━━━━━━━━━━━━━\u001b[0m \u001b[32m0.0/42.0 kB\u001b[0m \u001b[31m?\u001b[0m eta \u001b[36m-:--:--\u001b[0m\r\u001b[2K   \u001b[90m━━━━━━━━━━━━━━━━━━━━━━━━━━━━━━━━━━━━━━━━\u001b[0m \u001b[32m42.0/42.0 kB\u001b[0m \u001b[31m1.0 MB/s\u001b[0m eta \u001b[36m0:00:00\u001b[0m\n",
            "\u001b[?25h"
          ]
        }
      ]
    },
    {
      "cell_type": "markdown",
      "source": [
        "Verify Installation"
      ],
      "metadata": {
        "id": "FAbtMsOpWhi9"
      }
    },
    {
      "cell_type": "code",
      "source": [
        "!pip show google-generativeai google-ai-generativelanguage langchain-google-genai"
      ],
      "metadata": {
        "colab": {
          "base_uri": "https://localhost:8080/"
        },
        "id": "bsLAU-ahWjhT",
        "outputId": "afd4d154-6b2c-4480-abf5-defe7a6dedef",
        "collapsed": true
      },
      "execution_count": 3,
      "outputs": [
        {
          "output_type": "stream",
          "name": "stdout",
          "text": [
            "Name: google-generativeai\n",
            "Version: 0.8.5\n",
            "Summary: Google Generative AI High level API client library and tools.\n",
            "Home-page: https://github.com/google/generative-ai-python\n",
            "Author: Google LLC\n",
            "Author-email: googleapis-packages@google.com\n",
            "License: Apache 2.0\n",
            "Location: /usr/local/lib/python3.11/dist-packages\n",
            "Requires: google-ai-generativelanguage, google-api-core, google-api-python-client, google-auth, protobuf, pydantic, tqdm, typing-extensions\n",
            "Required-by: langchain-google-genai\n",
            "---\n",
            "Name: google-ai-generativelanguage\n",
            "Version: 0.6.15\n",
            "Summary: Google Ai Generativelanguage API client library\n",
            "Home-page: https://github.com/googleapis/google-cloud-python/tree/main/packages/google-ai-generativelanguage\n",
            "Author: Google LLC\n",
            "Author-email: googleapis-packages@google.com\n",
            "License: Apache 2.0\n",
            "Location: /usr/local/lib/python3.11/dist-packages\n",
            "Requires: google-api-core, google-auth, proto-plus, protobuf\n",
            "Required-by: google-generativeai\n",
            "---\n",
            "Name: langchain-google-genai\n",
            "Version: 2.0.10\n",
            "Summary: An integration package connecting Google's genai package and LangChain\n",
            "Home-page: https://github.com/langchain-ai/langchain-google\n",
            "Author: \n",
            "Author-email: \n",
            "License: MIT\n",
            "Location: /usr/local/lib/python3.11/dist-packages\n",
            "Requires: filetype, google-generativeai, langchain-core, pydantic\n",
            "Required-by: \n"
          ]
        }
      ]
    },
    {
      "cell_type": "markdown",
      "source": [
        "Import Neccessary Files"
      ],
      "metadata": {
        "id": "JDO_YRyvXyQb"
      }
    },
    {
      "cell_type": "code",
      "source": [
        "import langchain\n",
        "import langchain_google_genai\n",
        "print(\"LangChain and Gemini integration installed successfully!\")"
      ],
      "metadata": {
        "colab": {
          "base_uri": "https://localhost:8080/"
        },
        "id": "83PXIo2PXodh",
        "outputId": "cb1c3720-e18d-4a2b-f3c9-43f1c84c9c13"
      },
      "execution_count": 4,
      "outputs": [
        {
          "output_type": "stream",
          "name": "stdout",
          "text": [
            "LangChain and Gemini integration installed successfully!\n"
          ]
        }
      ]
    },
    {
      "cell_type": "markdown",
      "source": [
        "Import gemini key"
      ],
      "metadata": {
        "id": "bExbQIJ2Z3IN"
      }
    },
    {
      "cell_type": "code",
      "source": [
        "from google.colab import userdata\n",
        "api_key = userdata.get('gemini_api')\n",
        "# print(api_key)"
      ],
      "metadata": {
        "id": "fhH0slqnZ6GV"
      },
      "execution_count": 19,
      "outputs": []
    },
    {
      "cell_type": "markdown",
      "source": [
        "Initialized with langchain"
      ],
      "metadata": {
        "id": "v6ds_lm8aIh7"
      }
    },
    {
      "cell_type": "code",
      "source": [
        "from langchain_google_genai import ChatGoogleGenerativeAI\n",
        "\n",
        "#Initialize the model\n",
        "llm = ChatGoogleGenerativeAI(\n",
        "    model = \"gemini-2.5-flash\",\n",
        "    google_api_key = api_key,\n",
        "    temparature = 0.7 # 0=deterministic, 1= random\n",
        ")"
      ],
      "metadata": {
        "id": "0RPVqVFYaLHa"
      },
      "execution_count": 46,
      "outputs": []
    },
    {
      "cell_type": "markdown",
      "source": [
        "Send Queries to verify setup"
      ],
      "metadata": {
        "id": "x2xNtyY_bAGZ"
      }
    },
    {
      "cell_type": "code",
      "source": [
        "response = llm.invoke(\"Hello, What is langchain?\")\n",
        "print(response.content)"
      ],
      "metadata": {
        "colab": {
          "base_uri": "https://localhost:8080/"
        },
        "id": "9LRuom_JbDVh",
        "outputId": "1b5a78a6-7a0b-457d-c881-24a57092441a",
        "collapsed": true
      },
      "execution_count": 21,
      "outputs": [
        {
          "output_type": "stream",
          "name": "stdout",
          "text": [
            "LangChain is an open-source **framework (or library) designed to simplify the development of applications powered by Large Language Models (LLMs)**.\n",
            "\n",
            "Think of it as a toolkit that helps you take powerful LLMs (like GPT-4, Claude, Llama, etc.) and connect them with other data sources, computational tools, and your own logic to build more complex and useful applications.\n",
            "\n",
            "Here's a breakdown of what that means and why it's so useful:\n",
            "\n",
            "### Why LangChain? (The Problem It Solves)\n",
            "\n",
            "While LLMs are incredibly powerful, they have some inherent limitations when used in isolation:\n",
            "\n",
            "1.  **Lack of Real-time Information:** Their knowledge is typically cut off at their last training date. They can't browse the web or access current events.\n",
            "2.  **No Memory:** By default, LLMs are stateless. Each interaction is separate, so they don't remember past conversations.\n",
            "3.  **Inability to Perform Actions:** They can't directly execute code, call APIs, or interact with external systems (like sending an email or booking a flight).\n",
            "4.  **Complex Chaining:** Many real-world tasks require multiple steps, sometimes involving several LLM calls or interactions with external systems. Orchestrating these manually can be difficult.\n",
            "\n",
            "LangChain provides the \"glue\" and \"structure\" to overcome these limitations.\n",
            "\n",
            "### How LangChain Works (Key Concepts/Components)\n",
            "\n",
            "LangChain provides modular components that you can combine and chain together:\n",
            "\n",
            "1.  **Models:** It offers a standardized interface to interact with various LLM providers (OpenAI, Hugging Face, Anthropic, Google, etc.) and different types of models (text completion, chat models, embeddings).\n",
            "2.  **Prompts:** Tools for constructing, optimizing, and managing prompts for LLMs, including prompt templates, example selectors, and output parsers.\n",
            "3.  **Chains:** The core concept! Chains allow you to combine multiple components (LLM calls, other chains, tools) into a single, cohesive sequence. For example, one chain might summarize a document, and the next might translate it.\n",
            "4.  **Agents:** This is where things get really smart. Agents use an LLM as a \"reasoning engine\" to decide which \"tools\" to use and in what order to achieve a specific goal. The LLM observes the environment, decides on an action, executes it via a tool, and repeats until the goal is met.\n",
            "5.  **Tools:** External functionalities that an agent can use. This could be anything from a search engine, a calculator, a Python interpreter, a custom API call, or a database query.\n",
            "6.  **Memory:** Mechanisms to persist state between calls of a chain or agent. This is crucial for building conversational applications where the LLM needs to remember previous turns.\n",
            "7.  **Retrieval:** Components for interacting with external data sources (like documents, databases, APIs) to fetch relevant information that can then be passed to an LLM. This is fundamental for \"Retrieval Augmented Generation\" (RAG), where the LLM can answer questions based on your specific data.\n",
            "\n",
            "### Common Use Cases / What You Can Build\n",
            "\n",
            "With LangChain, you can build much more sophisticated LLM applications, such as:\n",
            "\n",
            "*   **Chatbots with Memory and External Knowledge:** A chatbot that remembers your past questions and can also answer questions based on your company's internal documents.\n",
            "*   **Question Answering over Custom Data:** Build a system that can answer questions about your PDFs, Notion pages, or website content.\n",
            "*   **Intelligent Agents:** An agent that can browse the web, summarize articles, and then draft an email based on the findings.\n",
            "*   **Data Analysis Assistants:** An LLM that can write and execute Python code to analyze data and present insights.\n",
            "*   **Complex Workflow Automation:** Automating tasks that involve multiple steps, decisions, and interactions with various systems.\n",
            "\n",
            "### In essence:\n",
            "\n",
            "LangChain empowers developers to move beyond simple LLM prompts and build **context-aware, reasoning, and action-oriented LLM applications** by providing the necessary abstractions and building blocks. It's available primarily in **Python** and **JavaScript/TypeScript**.\n"
          ]
        }
      ]
    },
    {
      "cell_type": "code",
      "source": [
        "from langchain.chains import LLMChain, SequentialChain\n",
        "from langchain_core.output_parsers import StrOutputParser"
      ],
      "metadata": {
        "id": "7lVje5T_NUge"
      },
      "execution_count": 38,
      "outputs": []
    },
    {
      "cell_type": "markdown",
      "source": [
        "# Chains... (prompt | llm)"
      ],
      "metadata": {
        "id": "HfoAM43TGjZw"
      }
    },
    {
      "cell_type": "markdown",
      "source": [
        "Import Necessaries"
      ],
      "metadata": {
        "id": "7mozfXgfGty3"
      }
    },
    {
      "cell_type": "code",
      "source": [
        "from langchain.prompts import PromptTemplate\n",
        "from langchain.chains import LLMChain"
      ],
      "metadata": {
        "id": "xdE80DMWGtIg"
      },
      "execution_count": 8,
      "outputs": []
    },
    {
      "cell_type": "code",
      "source": [
        "code_prompt = PromptTemplate(\n",
        "    template=\"Write a very short {language} function that will {task}\",\n",
        "    input_variables=[\"language\", \"task\"]\n",
        ")"
      ],
      "metadata": {
        "id": "iNFFHtfpI_ai"
      },
      "execution_count": 9,
      "outputs": []
    },
    {
      "cell_type": "code",
      "source": [
        "code_chain = code_prompt | llm | StrOutputParser()"
      ],
      "metadata": {
        "id": "h1aDpNGHJaig"
      },
      "execution_count": 39,
      "outputs": []
    },
    {
      "cell_type": "code",
      "source": [
        "result = code_chain.invoke({\n",
        "    \"language\": \"python\",\n",
        "    \"task\": \"return a list of numbers\"\n",
        "})\n",
        "print(result)\n",
        "print(result.content)"
      ],
      "metadata": {
        "colab": {
          "base_uri": "https://localhost:8080/"
        },
        "id": "eqZpdmodJkcn",
        "outputId": "50f88a73-9107-4260-a99d-098a80cb879c"
      },
      "execution_count": 11,
      "outputs": [
        {
          "output_type": "stream",
          "name": "stdout",
          "text": [
            "content='```python\\ndef get_numbers():\\n  return [1, 2, 3, 4, 5] \\n```' additional_kwargs={} response_metadata={'prompt_feedback': {'block_reason': 0, 'safety_ratings': []}, 'finish_reason': 'STOP', 'safety_ratings': []} id='run--d5e71c90-7dad-4062-9c23-3c3002a093df-0' usage_metadata={'input_tokens': 14, 'output_tokens': 29, 'total_tokens': 138, 'input_token_details': {'cache_read': 0}}\n",
            "```python\n",
            "def get_numbers():\n",
            "  return [1, 2, 3, 4, 5] \n",
            "```\n"
          ]
        }
      ]
    },
    {
      "cell_type": "markdown",
      "source": [
        "# Connecting Chain Together..."
      ],
      "metadata": {
        "id": "dhoPIrCdGK5O"
      }
    },
    {
      "cell_type": "markdown",
      "source": [],
      "metadata": {
        "id": "GemXaiuTGZZI"
      }
    },
    {
      "cell_type": "code",
      "source": [
        "comment_prompt = PromptTemplate(\n",
        "    input_variables=[\"code\"],\n",
        "    template=\"Explain the following code:\\n{code}\"\n",
        ")\n",
        "test_prompt = PromptTemplate(\n",
        "    input_variables=[\"language\", \"code\"],\n",
        "    template=\"Write a test for following {language} code:\\n{code}\"\n",
        ")"
      ],
      "metadata": {
        "id": "WUpwTi9jGZyf"
      },
      "execution_count": 51,
      "outputs": []
    },
    {
      "cell_type": "code",
      "source": [
        "comment_chain = comment_prompt | llm | StrOutputParser()\n",
        "test_chain = test_prompt | llm | StrOutputParser()"
      ],
      "metadata": {
        "id": "70FBDpHYJScw"
      },
      "execution_count": 52,
      "outputs": []
    },
    {
      "cell_type": "code",
      "source": [
        "language = \"python\"\n",
        "task = \"return a list of numbers\""
      ],
      "metadata": {
        "id": "x3cjeZ3UJu2I"
      },
      "execution_count": 63,
      "outputs": []
    },
    {
      "cell_type": "code",
      "source": [
        "combined_chain_1 = code_chain | comment_chain"
      ],
      "metadata": {
        "id": "XfFuyjHrLH1v"
      },
      "execution_count": 57,
      "outputs": []
    },
    {
      "cell_type": "code",
      "source": [
        "result = combined_chain_1.invoke({\n",
        "    \"language\": language,\n",
        "    \"task\": task\n",
        "})\n",
        "print(result)\n",
        "#"
      ],
      "metadata": {
        "colab": {
          "base_uri": "https://localhost:8080/"
        },
        "collapsed": true,
        "id": "rpUC9339Nsa2",
        "outputId": "7623e46b-2878-4559-bee1-5443bc15fb4e"
      },
      "execution_count": 54,
      "outputs": [
        {
          "output_type": "stream",
          "name": "stdout",
          "text": [
            "This Python code defines a simple function named `get_numbers`.\n",
            "\n",
            "Let's break down each part:\n",
            "\n",
            "1.  **`def get_numbers():`**\n",
            "    *   `def`: This keyword is used to *define* a function in Python.\n",
            "    *   `get_numbers`: This is the *name* of the function. It's a good practice to choose descriptive names that indicate what the function does.\n",
            "    *   `()`: These parentheses indicate that the function takes *no arguments* (or parameters). If it needed inputs, they would be listed inside these parentheses (e.g., `def add_numbers(a, b):`).\n",
            "    *   `:`: This colon marks the end of the function header and the beginning of its body (the code that belongs to the function).\n",
            "\n",
            "2.  **`\"\"\"Returns a list of numbers.\"\"\"`**\n",
            "    *   This is a **docstring** (documentation string). It's a multi-line string (enclosed in triple quotes `\"\"\"...\"\"\"`) that immediately follows the function definition.\n",
            "    *   **Purpose:** Docstrings are used to provide a concise summary of what the function does, its arguments, and what it returns. They are crucial for making your code understandable to others (and your future self!) and are used by documentation tools.\n",
            "\n",
            "3.  **`return [1, 2, 3, 4, 5]`**\n",
            "    *   `return`: This keyword specifies the value that the function will \"send back\" or \"output\" to the part of the code that called it. Once a `return` statement is executed, the function finishes its execution.\n",
            "    *   `[1, 2, 3, 4, 5]`: This is a **list literal**. In Python, a list is an ordered, mutable (changeable) collection of items. Here, it's a list containing five integer numbers.\n",
            "\n",
            "**In summary:**\n",
            "\n",
            "The `get_numbers` function is designed to simply provide a fixed list of numbers. When you call this function, it will always return `[1, 2, 3, 4, 5]`.\n",
            "\n",
            "**How to use it:**\n",
            "\n",
            "```python\n",
            "# Call the function and store its return value in a variable\n",
            "my_list = get_numbers()\n",
            "print(my_list) # Output: [1, 2, 3, 4, 5]\n",
            "\n",
            "# You can also call it directly within other operations\n",
            "print(len(get_numbers())) # Output: 5 (the number of items in the list)\n",
            "\n",
            "for number in get_numbers():\n",
            "    print(number)\n",
            "# Output:\n",
            "# 1\n",
            "# 2\n",
            "# 3\n",
            "# 4\n",
            "# 5\n",
            "```\n"
          ]
        }
      ]
    },
    {
      "cell_type": "markdown",
      "source": [
        "for multiple input in second chain, first chain should be defined in a function"
      ],
      "metadata": {
        "id": "YNAa6ZOuP863"
      }
    },
    {
      "cell_type": "code",
      "source": [
        "def mod_output(input):\n",
        "  language = input[\"language\"]\n",
        "  task = input[\"task\"]\n",
        "  code = code_chain.invoke(input)\n",
        "  return {\"language\" : language, \"code\" : code}"
      ],
      "metadata": {
        "id": "fRw7i2TzP8eG"
      },
      "execution_count": 71,
      "outputs": []
    },
    {
      "cell_type": "code",
      "source": [
        "from langchain_core.runnables import RunnableLambda\n",
        "\n",
        "combined_chain_2 = RunnableLambda(mod_output) | test_chain\n",
        "result = combined_chain_2.invoke({\"language\": language, \"task\": task})\n",
        "print(result)\n",
        "#"
      ],
      "metadata": {
        "colab": {
          "base_uri": "https://localhost:8080/"
        },
        "id": "m2h1Rl2wRKwf",
        "outputId": "adc3d26f-5002-42ca-ba7b-a95003e88215"
      },
      "execution_count": 72,
      "outputs": [
        {
          "output_type": "stream",
          "name": "stdout",
          "text": [
            "Okay, here are tests for the `get_numbers` function using both the built-in `unittest` framework and the popular `pytest` framework.\n",
            "\n",
            "First, let's assume your `get_numbers` function is in a file named `my_module.py`:\n",
            "\n",
            "**`my_module.py`:**\n",
            "```python\n",
            "def get_numbers():\n",
            "    \"\"\"\n",
            "    Returns a predefined list of numbers.\n",
            "    \"\"\"\n",
            "    return [1, 2, 3, 4, 5]\n",
            "```\n",
            "\n",
            "---\n",
            "\n",
            "## 1. Using `unittest` (Built-in Python Testing Framework)\n",
            "\n",
            "Create a new file named `test_my_module_unittest.py` (or similar) in the same directory:\n",
            "\n",
            "**`test_my_module_unittest.py`:**\n",
            "```python\n",
            "import unittest\n",
            "from my_module import get_numbers  # Import the function from your module\n",
            "\n",
            "class TestGetNumbers(unittest.TestCase):\n",
            "    \"\"\"\n",
            "    Test suite for the get_numbers function.\n",
            "    \"\"\"\n",
            "\n",
            "    def test_returns_correct_list(self):\n",
            "        \"\"\"\n",
            "        Test that get_numbers returns the exact expected list.\n",
            "        \"\"\"\n",
            "        expected_list = [1, 2, 3, 4, 5]\n",
            "        actual_list = get_numbers()\n",
            "        self.assertEqual(actual_list, expected_list, \"The returned list should match the expected list.\")\n",
            "\n",
            "    def test_returns_a_list_type(self):\n",
            "        \"\"\"\n",
            "        Test that the return type of get_numbers is a list.\n",
            "        \"\"\"\n",
            "        actual_list = get_numbers()\n",
            "        self.assertIsInstance(actual_list, list, \"The return type should be a list.\")\n",
            "\n",
            "    def test_returns_list_with_correct_length(self):\n",
            "        \"\"\"\n",
            "        Test that the returned list has the correct number of elements.\n",
            "        \"\"\"\n",
            "        actual_list = get_numbers()\n",
            "        self.assertEqual(len(actual_list), 5, \"The list should contain 5 elements.\")\n",
            "\n",
            "    def test_list_elements_are_integers(self):\n",
            "        \"\"\"\n",
            "        Test that all elements in the returned list are integers.\n",
            "        \"\"\"\n",
            "        actual_list = get_numbers()\n",
            "        for number in actual_list:\n",
            "            self.assertIsInstance(number, int, f\"Element {number} should be an integer.\")\n",
            "\n",
            "# This block allows you to run the tests directly from the command line\n",
            "if __name__ == '__main__':\n",
            "    unittest.main(argv=['first-arg-is-ignored'], exit=False)\n",
            "```\n",
            "\n",
            "**How to run `unittest` tests:**\n",
            "\n",
            "1.  Save the `my_module.py` and `test_my_module_unittest.py` files in the same directory.\n",
            "2.  Open your terminal or command prompt.\n",
            "3.  Navigate to that directory.\n",
            "4.  Run the command: `python -m unittest test_my_module_unittest.py`\n",
            "    *Alternatively, if you include the `if __name__ == '__main__':` block, you can just run `python test_my_module_unittest.py`.*\n",
            "\n",
            "---\n",
            "\n",
            "## 2. Using `pytest` (Popular Third-Party Testing Framework)\n",
            "\n",
            "`pytest` is often preferred for its simpler syntax and powerful features. You'll need to install it first:\n",
            "`pip install pytest`\n",
            "\n",
            "Create a new file named `test_my_module_pytest.py` (or similar) in the same directory:\n",
            "\n",
            "**`test_my_module_pytest.py`:**\n",
            "```python\n",
            "from my_module import get_numbers  # Import the function from your module\n",
            "\n",
            "def test_get_numbers_returns_correct_list():\n",
            "    \"\"\"\n",
            "    Test that get_numbers returns the exact expected list.\n",
            "    \"\"\"\n",
            "    expected_list = [1, 2, 3, 4, 5]\n",
            "    actual_list = get_numbers()\n",
            "    assert actual_list == expected_list, \"The returned list should match the expected list.\"\n",
            "\n",
            "def test_get_numbers_returns_a_list_type():\n",
            "    \"\"\"\n",
            "    Test that the return type of get_numbers is a list.\n",
            "    \"\"\"\n",
            "    actual_list = get_numbers()\n",
            "    assert isinstance(actual_list, list), \"The return type should be a list.\"\n",
            "\n",
            "def test_get_numbers_returns_list_with_correct_length():\n",
            "    \"\"\"\n",
            "    Test that the returned list has the correct number of elements.\n",
            "    \"\"\"\n",
            "    actual_list = get_numbers()\n",
            "    assert len(actual_list) == 5, \"The list should contain 5 elements.\"\n",
            "\n",
            "def test_get_numbers_list_elements_are_integers():\n",
            "    \"\"\"\n",
            "    Test that all elements in the returned list are integers.\n",
            "    \"\"\"\n",
            "    actual_list = get_numbers()\n",
            "    for number in actual_list:\n",
            "        assert isinstance(number, int), f\"Element {number} should be an integer.\"\n",
            "```\n",
            "\n",
            "**How to run `pytest` tests:**\n",
            "\n",
            "1.  Save the `my_module.py` and `test_my_module_pytest.py` files in the same directory.\n",
            "2.  Open your terminal or command prompt.\n",
            "3.  Navigate to that directory.\n",
            "4.  Run the command: `pytest`\n",
            "    *`pytest` automatically discovers test files (files starting with `test_` or ending with `_test.py`) and functions/methods starting with `test_`.*\n",
            "\n",
            "---\n",
            "\n",
            "**Explanation of the tests:**\n",
            "\n",
            "*   **`test_returns_correct_list` / `test_get_numbers_returns_correct_list`**: This is the most crucial test. It calls the function and directly compares its output to the exact list it's supposed to return.\n",
            "*   **`test_returns_a_list_type` / `test_get_numbers_returns_a_list_type`**: Checks that the function actually returns a `list` object, not something else (like a tuple or string).\n",
            "*   **`test_returns_list_with_correct_length` / `test_get_numbers_returns_list_with_correct_length`**: Verifies that the returned list contains the expected number of elements (5 in this case).\n",
            "*   **`test_list_elements_are_integers` / `test_get_numbers_list_elements_are_integers`**: Ensures that each individual element within the list is of the expected type (an integer). While `assertEqual` for the whole list covers the values, this explicitly checks the types of the elements themselves, which can be useful for more complex scenarios.\n",
            "\n",
            "These tests provide comprehensive coverage for such a simple and deterministic function.\n"
          ]
        }
      ]
    }
  ]
}